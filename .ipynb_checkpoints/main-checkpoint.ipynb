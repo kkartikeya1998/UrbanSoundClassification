{
 "cells": [
  {
   "cell_type": "markdown",
   "metadata": {},
   "source": [
    "### Importing libraries  "
   ]
  },
  {
   "cell_type": "code",
   "execution_count": null,
   "metadata": {},
   "outputs": [],
   "source": [
    "import numpy as np\n",
    "import pandas as pd\n",
    "import matplotlib.pyplot as plt\n",
    "import librosa\n",
    "import os\n",
    "import tqdm\n",
    "import warnings\n",
    "warnings.simplefilter(\"ignore\")"
   ]
  },
  {
   "cell_type": "markdown",
   "metadata": {},
   "source": [
    "### Interpreting data from dataframe"
   ]
  },
  {
   "cell_type": "code",
   "execution_count": null,
   "metadata": {},
   "outputs": [],
   "source": [
    "df = pd.read_csv('./UrbanSound8K/metadata/UrbanSound8K.csv')\n",
    "df.head()"
   ]
  },
  {
   "cell_type": "markdown",
   "metadata": {},
   "source": [
    "## Loading data and Extracting Features"
   ]
  },
  {
   "cell_type": "code",
   "execution_count": null,
   "metadata": {},
   "outputs": [],
   "source": [
    "def extract_features(filename, input_height = 50):\n",
    "    max_sr = 88200\n",
    "    \n",
    "    # Loading audio file as 1D numpy array.\n",
    "    # -len(y) depends on duration of audio file, thus needs to be normalized (4 seconds).\n",
    "    y, sr = librosa.load(filename)\n",
    "    \n",
    "    # Getting sampling rate and resampling to create audio data of same size.\n",
    "    sr_normalized = sr*max_sr//len(y)\n",
    "    y_resampled = librosa.core.resample(y, sr, sr_normalized)\n",
    "    \n",
    "    # Obtaining mel-scaled spectrogram of the normalized audio\n",
    "    S = librosa.feature.melspectrogram(y = y_resampled, sr = sr_normalized, n_mels = input_height, fmax = 8000)\n",
    "    \n",
    "    # Obtaining chroma_cqt\n",
    "    chroma_cqt = librosa.feature.chroma_cqt(y_resampled, sr=sr_normalized, n_chroma = input_height)\n",
    "    \n",
    "    # Obtaining mel frequency cepstral coefficients\n",
    "    mfcc = librosa.feature.mfcc(S = librosa.power_to_db(S), n_mfcc=input_height)\n",
    "    \n",
    "    # X = np.dstack((S, chroma_cqt, mfcc))\n",
    "    X = np.dstack((S, chroma_cqt, mfcc))\n",
    "    # Returning X \n",
    "    return X"
   ]
  },
  {
   "cell_type": "code",
   "execution_count": null,
   "metadata": {},
   "outputs": [],
   "source": [
    "def createXY(data_dirs):\n",
    "    # Initialize X and Y as empty lists\n",
    "    X = []\n",
    "    Y = []\n",
    "    \n",
    "    # Do for all forlders in the list data_dirs\n",
    "    for fold in tqdm.tnrange(len(data_dirs)):\n",
    "        data_dir = data_dirs[fold]\n",
    "        \n",
    "        # List of all audios in the given directory\n",
    "        audio_files = os.listdir(data_dir)\n",
    "        if '.DS_Store' in audio_files:\n",
    "            audio_files.remove('.DS_Store')\n",
    "        n_files = len(audio_files)\n",
    "\n",
    "        for i in tqdm.tnrange (n_files):\n",
    "            # Full path to audio file in the folder\n",
    "            full_audio_path = data_dir + '/' + audio_files[i]\n",
    "\n",
    "            # Extract features for the audio and append it to X \n",
    "            x = extract_features(full_audio_path)\n",
    "            X.append(x)\n",
    "\n",
    "            # Get the class label for the audio from main dataframe and append it\n",
    "            df_row = df.loc[df['slice_file_name'] == audio_files[i]]\n",
    "            y = df_row.iloc[0].classID\n",
    "            Y.append(y)\n",
    "\n",
    "    # Reframe X, Y as numpy arrays and reshape Y\n",
    "    X,Y = np.array(X), np.array(Y)\n",
    "    Y = np.reshape(Y, (len(Y),1))\n",
    "    return X,Y"
   ]
  },
  {
   "cell_type": "code",
   "execution_count": null,
   "metadata": {},
   "outputs": [],
   "source": [
    "# main_path is the path to the folder containing 10 folders with audio files \n",
    "main_path = './UrbanSound8K/audio'\n",
    "folders = os.listdir(main_path)\n",
    "\n",
    "# Initializing X, Y and appeding to them, that data from remaining folders in training data\n",
    "X, Y = create_XY(main_path + '/' + folders[0])\n",
    "for i in range(1,10):\n",
    "    folder_path = main_path + '/' + folders[i]\n",
    "    X_i, Y_i = createXY(folder_path)\n",
    "    X = np.append(X, X_i, axis = 0)\n",
    "    Y = np.append(Y, Y_i, axis = 0)"
   ]
  },
  {
   "cell_type": "code",
   "execution_count": null,
   "metadata": {},
   "outputs": [],
   "source": [
    "# Importing one hot encoder to dummy encode Y\n",
    "from sklearn.preprocessing import OneHotEncoder\n",
    "\n",
    "# One Hot Encoding Y and changing it to an array\n",
    "enc = OneHotEncoder()\n",
    "Y = enc.fit_transform(Y)\n",
    "Y = Y.toarray()"
   ]
  },
  {
   "cell_type": "code",
   "execution_count": null,
   "metadata": {},
   "outputs": [],
   "source": [
    "X = np.reshape(X, [X.shape[0], X.shape[1], X.shape[2], 1])"
   ]
  },
  {
   "cell_type": "code",
   "execution_count": null,
   "metadata": {},
   "outputs": [],
   "source": [
    "X.shape, Y.shape"
   ]
  },
  {
   "cell_type": "markdown",
   "metadata": {},
   "source": [
    "## CNN Model using Keras"
   ]
  },
  {
   "cell_type": "code",
   "execution_count": null,
   "metadata": {},
   "outputs": [],
   "source": [
    "# Specifying the CNN structure\n",
    "\n",
    "input_width = 173\n",
    "input_height = 50\n",
    "input_channels = 2\n",
    "n_pixels = 44288\n",
    "\n",
    "n_conv1 = 128\n",
    "k_conv1 = 2\n",
    "k_maxpool1 = 2\n",
    "rate_dropout1 = 0.15\n",
    "\n",
    "n_conv2 = 64\n",
    "k_conv2 = 2\n",
    "k_maxpool2 = 2\n",
    "rate_dropout2 = 0.20\n",
    "\n",
    "n_hidden1 = 1024\n",
    "n_out = 10"
   ]
  },
  {
   "cell_type": "code",
   "execution_count": null,
   "metadata": {},
   "outputs": [],
   "source": [
    "from keras.models import Sequential\n",
    "from keras.layers import Dense, Conv2D, MaxPooling2D, Flatten, Dropout"
   ]
  },
  {
   "cell_type": "code",
   "execution_count": null,
   "metadata": {},
   "outputs": [],
   "source": [
    "# Creating our Convolutional neural network model, and its layers\n",
    "\n",
    "model = Sequential()\n",
    "    \n",
    "model.add(Conv2D(n_conv1, kernel_size=k_conv1, activation='relu', input_shape=(input_height,input_width,input_channels)))\n",
    "model.add(MaxPooling2D(pool_size = (k_maxpool1, k_maxpool1)))\n",
    "model.add(Dropout(rate = rate_dropout1))\n",
    "\n",
    "model.add(Conv2D(n_conv2, kernel_size=k_conv2, activation='relu'))\n",
    "model.add(MaxPooling2D(pool_size = (k_maxpool2, k_maxpool2)))\n",
    "model.add(Dropout(rate = rate_dropout2))\n",
    "  \n",
    "model.add(Flatten())\n",
    "    \n",
    "model.add(Dense(n_hidden1, activation = 'sigmoid'))\n",
    "\n",
    "model.add(Dense(n_out, activation='softmax'))"
   ]
  },
  {
   "cell_type": "code",
   "execution_count": null,
   "metadata": {},
   "outputs": [],
   "source": [
    "# Compiling the model\n",
    "from keras.optimizers import SGD, Adam\n",
    "opt = Adam()\n",
    "model.compile(loss = \"categorical_crossentropy\", metrics = ['accuracy'], optimizer = opt)"
   ]
  },
  {
   "cell_type": "code",
   "execution_count": null,
   "metadata": {},
   "outputs": [],
   "source": [
    "# Fitting on the training data\n",
    "hist = model.fit(X_train, Y_train, batch_size=64, epochs=50)\n",
    "\n",
    "hist_df = pd.DataFrame.from_dict(hist.history)\n",
    "hist_df.to_csv('TrainingHistory.csv')"
   ]
  },
  {
   "cell_type": "code",
   "execution_count": null,
   "metadata": {},
   "outputs": [],
   "source": [
    "# Extracting test data\n",
    "X_test, Y_test = X, Y = create_XY(main_path + '/' + folders[9])"
   ]
  },
  {
   "cell_type": "code",
   "execution_count": null,
   "metadata": {},
   "outputs": [],
   "source": [
    "# Predicting using our model and observing accuracy\n",
    "Y_pred = model.predict(X_test)\n",
    "Y_pred= np.argmax(Y_pred, axis=1)\n",
    "Y_pred = np.reshape(Y_pred, [len(preds),1])\n",
    "correct_preds= np.equal(Y_test, Y_pred)\n",
    "print(correct_preds/len(Y_test)"
   ]
  }
 ],
 "metadata": {
  "kernelspec": {
   "display_name": "Python 3",
   "language": "python",
   "name": "python3"
  },
  "language_info": {
   "codemirror_mode": {
    "name": "ipython",
    "version": 3
   },
   "file_extension": ".py",
   "mimetype": "text/x-python",
   "name": "python",
   "nbconvert_exporter": "python",
   "pygments_lexer": "ipython3",
   "version": "3.6.8"
  }
 },
 "nbformat": 4,
 "nbformat_minor": 2
}
